{
 "cells": [
  {
   "cell_type": "code",
   "execution_count": 10,
   "metadata": {},
   "outputs": [
    {
     "name": "stdout",
     "output_type": "stream",
     "text": [
      "Random array size: 1000 Insertion Sort runtime: 0:00:00.067691\n",
      "Sorted array size: 1000 Insertion Sort runtime: 0:00:00.000299\n",
      "Reverse sorted array size: 1000 Insertion Sort runtime: 0:00:00.118054\n"
     ]
    }
   ],
   "source": [
    "# Name: Syed Arham Naqvi\n",
    "# Student Number: 100590852\n",
    "\n",
    "import numpy as np\n",
    "import datetime as dt\n",
    "\n",
    "#Insertion Sort Algorithm\n",
    "def insertionSort(arr):\n",
    "    for j in range(1,len(arr)):\n",
    "        \n",
    "        key = arr[j]\n",
    "        i = j - 1\n",
    "        \n",
    "        while( (i > 0) and (arr[i]) > key ):\n",
    "            arr[i+1] = arr[i]\n",
    "            i -= 1\n",
    "        arr[i+1] = key\n",
    "\n",
    "size = 1000\n",
    "#Creating a random array\n",
    "randArr = np.random.randint(1,size+1, size=(size,))\n",
    "#Creating a sorted array\n",
    "sortedArr = np.arange(1,size+1,1)\n",
    "#Creating an array sorted in reverse order\n",
    "reverseArr = np.arange(size, 0, -1)\n",
    "\n",
    "#calculating and logging runtime for random array\n",
    "start = dt.datetime.now()\n",
    "insertionSort(randArr)\n",
    "end = dt.datetime.now()\n",
    "print(f\"Random array size: {size} Insertion Sort runtime: {end-start}\")\n",
    "\n",
    "#calculating and logging runtime for sorted array\n",
    "start = dt.datetime.now()\n",
    "insertionSort(sortedArr)\n",
    "end = dt.datetime.now()\n",
    "print(f\"Sorted array size: {size} Insertion Sort runtime: {end-start}\")\n",
    "\n",
    "#calculating and logging runtime for array sorted in reverse order\n",
    "start = dt.datetime.now()\n",
    "insertionSort(reverseArr)\n",
    "end = dt.datetime.now()\n",
    "print(f\"Reverse sorted array size: {size} Insertion Sort runtime: {end-start}\")"
   ]
  },
  {
   "cell_type": "code",
   "execution_count": 8,
   "metadata": {},
   "outputs": [
    {
     "name": "stdout",
     "output_type": "stream",
     "text": [
      "I am trying to output the value of a integer variable within this string 10000\n"
     ]
    }
   ],
   "source": [
    "print(f\"I am trying to output the value of a integer variable within this string {size}\")"
   ]
  }
 ],
 "metadata": {
  "kernelspec": {
   "display_name": "base",
   "language": "python",
   "name": "python3"
  },
  "language_info": {
   "codemirror_mode": {
    "name": "ipython",
    "version": 3
   },
   "file_extension": ".py",
   "mimetype": "text/x-python",
   "name": "python",
   "nbconvert_exporter": "python",
   "pygments_lexer": "ipython3",
   "version": "3.11.4"
  },
  "orig_nbformat": 4
 },
 "nbformat": 4,
 "nbformat_minor": 2
}
